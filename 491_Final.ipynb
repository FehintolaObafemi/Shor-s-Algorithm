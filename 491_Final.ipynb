{
  "nbformat": 4,
  "nbformat_minor": 0,
  "metadata": {
    "colab": {
      "name": "491-Final.ipynb",
      "provenance": [],
      "collapsed_sections": []
    },
    "kernelspec": {
      "name": "python3",
      "display_name": "Python 3"
    }
  },
  "cells": [
    {
      "cell_type": "code",
      "metadata": {
        "id": "pjWL-BjhHB7N"
      },
      "source": [
        "\"\"\"\r\n",
        "Name: Taofeek Obafemi-Babatunde\r\n",
        "Course: Computer Science 491 - Quantum Computing\r\n",
        "Fall 2020 - Final Project\r\n",
        "\"\"\""
      ],
      "execution_count": null,
      "outputs": []
    },
    {
      "cell_type": "markdown",
      "metadata": {
        "id": "SVT0-bmG7urD"
      },
      "source": [
        "Import all the required libraries"
      ]
    },
    {
      "cell_type": "code",
      "metadata": {
        "id": "YwuvVFqFGfyE"
      },
      "source": [
        "from qiskit import IBMQ\r\n",
        "from qiskit.aqua import QuantumInstance\r\n",
        "from qiskit.aqua.algorithms import Shor"
      ],
      "execution_count": null,
      "outputs": []
    },
    {
      "cell_type": "markdown",
      "metadata": {
        "id": "GNUzXtxX7_ak"
      },
      "source": [
        "Connect IBM Quantum Computer"
      ]
    },
    {
      "cell_type": "code",
      "metadata": {
        "id": "8j40Gwho6tFb"
      },
      "source": [
        "# Enter your API token here\r\n",
        "IBMQ.enable_account('ENTER API TOKEN HERE')\r\n",
        "provider = IBMQ.get_provider(hub='ibm-q')\r\n",
        "\r\n",
        "# Specifies the quantum device\r\n",
        "backend = provider.get_backend('ibmq_qasm_simulator') "
      ],
      "execution_count": null,
      "outputs": []
    },
    {
      "cell_type": "markdown",
      "metadata": {
        "id": "nnsMi9Ap8K2U"
      },
      "source": [
        "Factorize first number"
      ]
    },
    {
      "cell_type": "code",
      "metadata": {
        "id": "0Q32CCUo65Uj"
      },
      "source": [
        "first_factors = Shor(571)\r\n",
        "\r\n",
        "result_dict = first_factors.run(QuantumInstance(backend, shots=1, skip_qobj_validation=False))\r\n",
        "\r\n",
        "# Get factors from results\r\n",
        "first_result = result_dict['first_factors']"
      ],
      "execution_count": null,
      "outputs": []
    },
    {
      "cell_type": "code",
      "metadata": {
        "id": "gAEPblHk6-sX"
      },
      "source": [
        "print(first_result)"
      ],
      "execution_count": null,
      "outputs": []
    },
    {
      "cell_type": "markdown",
      "metadata": {
        "id": "5jLdot8e8Zq8"
      },
      "source": [
        "Factorize second number"
      ]
    },
    {
      "cell_type": "code",
      "metadata": {
        "id": "bLa_DU4g7BAB"
      },
      "source": [
        "second_factors = Shor(757) \r\n",
        "\r\n",
        "result_dict = second_factors.run(QuantumInstance(backend, shots=1, skip_qobj_validation=False))\r\n",
        "\r\n",
        "# Get factors from results\r\n",
        "second_result = result_dict['second_factors'] "
      ],
      "execution_count": null,
      "outputs": []
    },
    {
      "cell_type": "code",
      "metadata": {
        "id": "2q1pMuiz7Ex6"
      },
      "source": [
        "print(second_result)"
      ],
      "execution_count": null,
      "outputs": []
    }
  ]
}